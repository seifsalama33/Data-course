{
 "cells": [
  {
   "cell_type": "markdown",
   "id": "759d04ba",
   "metadata": {},
   "source": [
    "**1-Write a Python program to calculate the length of a string using 2 ways"
   ]
  },
  {
   "cell_type": "code",
   "execution_count": null,
   "id": "e434c950",
   "metadata": {},
   "outputs": [],
   "source": [
    "st = input(\"enter the string you want to know : \")\n",
    "print(\"the length of the string = \" , len(st))"
   ]
  },
  {
   "cell_type": "code",
   "execution_count": null,
   "id": "7a2dfa32",
   "metadata": {},
   "outputs": [],
   "source": [
    "st = list(input(\"enter the string you want to know : \"))\n",
    "st += \"^\"\n",
    "i = 0 \n",
    "c = 0\n",
    "while st[i] != \"^\" :\n",
    "    c+= 1 \n",
    "    i += 1 \n",
    "print (\"the length of string = \", c )"
   ]
  },
  {
   "cell_type": "markdown",
   "id": "d7cc9da7",
   "metadata": {},
   "source": [
    "**2-Write a Python program to get a string made of the first 2 and last 2 characters of a given string. If the string length is less than 2, return the empty string instead (\"##Sample String : 'w3resource'\n",
    "Expected Result : 'w3ce'\n",
    "##Sample String : 'w3'\n",
    "Expected Result : 'w3w3'\n",
    "##Sample String : ' w'\n",
    "Expected Result : Empty String)"
   ]
  },
  {
   "cell_type": "code",
   "execution_count": null,
   "id": "dafa9dd8",
   "metadata": {},
   "outputs": [],
   "source": [
    "st = list(input(\"enter the string you want to know : \"))\n",
    "if len(st) >= 2:\n",
    "    x = (st[0:2] + st[-2:])\n",
    "    print (\"\".join(x))\n",
    "else :\n",
    "    print(\"empty string\")"
   ]
  },
  {
   "cell_type": "markdown",
   "id": "1534f956",
   "metadata": {},
   "source": [
    "**3-Write a Python program to add 'ing' at the end of a given string (length should be at least 3). If the given string already ends with 'ing', add 'ly' instead. If the string length of the given string is less than 3, leave it unchanged. (Sample String : 'abc'\n",
    "Expected Result : 'abcing')"
   ]
  },
  {
   "cell_type": "code",
   "execution_count": null,
   "id": "7ff8cec4",
   "metadata": {},
   "outputs": [],
   "source": [
    "st = list(input(\"enter the string you want to know : \"))\n",
    "if len(st) >= 3:\n",
    "    \n",
    "    if st[-3: ] == \"ing\" :\n",
    "        print(st + \"ly\")\n",
    "    else : \n",
    "        print( st + \"ing\" )\n",
    "else :\n",
    "    print(st)"
   ]
  },
  {
   "cell_type": "markdown",
   "id": "1c0a6627",
   "metadata": {},
   "source": [
    "**4-Write a Python function that takes a list of words and return the longest word and the length of the longest one\n",
    "(Longest word: Exercises\n",
    "Length of the longest word: 9)"
   ]
  },
  {
   "cell_type": "code",
   "execution_count": null,
   "id": "397341d9",
   "metadata": {},
   "outputs": [],
   "source": [
    "l = []\n",
    "x = int(input (\"enter the number of words : \"))\n",
    "i = 0 \n",
    "max = 0 \n",
    "while i < x :\n",
    "    word = input(\"enter the word : \")\n",
    "    l.append(word)\n",
    "    if len(word) > max :\n",
    "        max = len(word)\n",
    "        c = i \n",
    "    i += 1\n",
    "print (\"the longest word is \" , l[c] , \"and its length = \" , max )"
   ]
  },
  {
   "cell_type": "markdown",
   "id": "53a03a6a",
   "metadata": {},
   "source": [
    "**5-Write a Python program to change a given string to a newly string where the first and last chars have been exchanged using 2 ways (Sample String:abca  Expected Result:ebce)"
   ]
  },
  {
   "cell_type": "code",
   "execution_count": null,
   "id": "fd327d2a",
   "metadata": {},
   "outputs": [],
   "source": []
  },
  {
   "cell_type": "code",
   "execution_count": null,
   "id": "285788b4",
   "metadata": {},
   "outputs": [],
   "source": []
  },
  {
   "cell_type": "markdown",
   "id": "25f89808",
   "metadata": {},
   "source": [
    "**6-Write a Python program to remove characters that have odd index values in a given string (Sample String:abca Expected Result:ac)"
   ]
  },
  {
   "cell_type": "code",
   "execution_count": null,
   "id": "05959bd7",
   "metadata": {},
   "outputs": [],
   "source": [
    "st = list(input(\"enter the string : \"))\n",
    "i = 0\n",
    "news = []\n",
    "while i < len(st):\n",
    "    if i % 2 == 0 :\n",
    "        news.append(st[i])\n",
    "    i += 1 \n",
    "print (''.join(news))"
   ]
  },
  {
   "cell_type": "markdown",
   "id": "eb16e898",
   "metadata": {},
   "source": [
    "**7-Write a Python program to count the occurrences of each word in a given sentence (Sample String:amr and ahmed are frindes but amr is the tallest Expected Result:2)"
   ]
  },
  {
   "cell_type": "code",
   "execution_count": null,
   "id": "01ce6cf5",
   "metadata": {},
   "outputs": [],
   "source": [
    "st = input(\"enter the string : \")\n",
    "st.split(' ')\n",
    "\n",
    "i = 0 \n",
    "j = 0 \n",
    "c = 0\n",
    "max = 0 \n",
    "while i < len(st): \n",
    "    while j < len(st) : \n",
    "        if st[i] == st [j] :\n",
    "            c +=1 \n",
    "            if c > max :\n",
    "                max = c \n",
    "        j+= 1 \n",
    "    i+=1 \n",
    "print ( max)"
   ]
  },
  {
   "cell_type": "markdown",
   "id": "4e8125f1",
   "metadata": {},
   "source": [
    "**8-Write a Python script that takes input from the user and displays that input back in upper and lower cases"
   ]
  },
  {
   "cell_type": "code",
   "execution_count": null,
   "id": "66c8f778",
   "metadata": {},
   "outputs": [],
   "source": [
    "st = input(\"enter the string : \")\n",
    "print(\"the string in upper case =\", st.upper())\n",
    "print(\"the string in lower case = \", st.lower())"
   ]
  },
  {
   "cell_type": "markdown",
   "id": "fcd68aa1",
   "metadata": {},
   "source": [
    "**9-Write a Python function to reverse a string if its length is a multiple of 4"
   ]
  },
  {
   "cell_type": "code",
   "execution_count": null,
   "id": "0671a931",
   "metadata": {},
   "outputs": [],
   "source": [
    "def rev(st) :\n",
    "    if len(st) % 4 == 0 :\n",
    "        x = st[::-1]\n",
    "    else : \n",
    "        x = st \n",
    "    return x\n",
    "\n",
    "st = input(\"enter the string : \")\n",
    "print(rev(st))"
   ]
  },
  {
   "cell_type": "markdown",
   "id": "b577c68d",
   "metadata": {},
   "source": [
    "**10- Write a Python program to remove a newline in Python"
   ]
  },
  {
   "cell_type": "code",
   "execution_count": null,
   "id": "e0c6525a",
   "metadata": {},
   "outputs": [],
   "source": []
  },
  {
   "cell_type": "markdown",
   "id": "80db5ae0",
   "metadata": {},
   "source": [
    "**11-Write a Python program to check whether a string starts with specified characters"
   ]
  },
  {
   "cell_type": "code",
   "execution_count": null,
   "id": "0cc4e03e",
   "metadata": {},
   "outputs": [],
   "source": [
    "st = input(\"enter the string : \")\n",
    "ch = input(\"enter the char : \")\n",
    "if st[:1] == ch : \n",
    "    print(\"right\")\n",
    "else :\n",
    "    print(\"false\")"
   ]
  },
  {
   "cell_type": "markdown",
   "id": "593a68db",
   "metadata": {},
   "source": [
    "**12- Write a Python program to add prefix text to all of the lines in a string"
   ]
  },
  {
   "cell_type": "code",
   "execution_count": null,
   "id": "d2e46ada",
   "metadata": {},
   "outputs": [],
   "source": []
  },
  {
   "cell_type": "markdown",
   "id": "86fa1543",
   "metadata": {},
   "source": [
    "**13-Write a Python program to print the following numbers up to 2 decimal places"
   ]
  },
  {
   "cell_type": "code",
   "execution_count": null,
   "id": "cd4a9d89",
   "metadata": {},
   "outputs": [],
   "source": [
    "n = int(input(\"enter the number of the numbers : \"))\n",
    "numbers = []\n",
    "while len(numbers) < n :\n",
    "    numbers.append(int(input(\"enter number\")))\n",
    "for i in numbers :\n",
    "    print('{:.2f}'.format(i))\n",
    "\n",
    "#I have searched for it "
   ]
  },
  {
   "cell_type": "markdown",
   "id": "452c0ab0",
   "metadata": {},
   "source": [
    "**14-Write a Python program to print the following numbers up to 2 decimal places with a sign"
   ]
  },
  {
   "cell_type": "code",
   "execution_count": null,
   "id": "73e82479",
   "metadata": {},
   "outputs": [],
   "source": [
    "n = int(input(\"enter the number of the numbers : \"))\n",
    "numbers = []\n",
    "while len(numbers) < n :\n",
    "    numbers.append(int(input(\"enter number\")))\n",
    "for i in numbers :\n",
    "    if i > 0 :\n",
    "        print('+{:.2f}'.format(i))\n",
    "    else : \n",
    "        print('-{:.2f}'.format(i))"
   ]
  },
  {
   "cell_type": "markdown",
   "id": "32b1811a",
   "metadata": {},
   "source": [
    "**15-Write a Python program to display a number with a comma separator"
   ]
  },
  {
   "cell_type": "code",
   "execution_count": null,
   "id": "f30fc0b6",
   "metadata": {},
   "outputs": [],
   "source": [
    "n = int(input(\"enter the number of the numbers : \"))\n",
    "numbers = []\n",
    "while len(numbers) < n :\n",
    "    numbers.append(int(input(\"enter number\")))\n",
    "for i in numbers :\n",
    "    print(f\"{i:,d}\")\n",
    "\n",
    "#I have searched for it "
   ]
  },
  {
   "cell_type": "markdown",
   "id": "0477f487",
   "metadata": {},
   "source": [
    "**16-Write a Python program to reverse a string using 2 ways"
   ]
  },
  {
   "cell_type": "code",
   "execution_count": null,
   "id": "aa8beec8",
   "metadata": {},
   "outputs": [],
   "source": [
    "st = input(\"enter the string : \")\n",
    "print(st[::-1])\n",
    "\n",
    "print(''.join(reversed(st)))"
   ]
  },
  {
   "cell_type": "markdown",
   "id": "5afc3166",
   "metadata": {},
   "source": [
    " **17-Write a Python program to count repeated characters in a string (hint:use dictionary)"
   ]
  },
  {
   "cell_type": "code",
   "execution_count": null,
   "id": "515a469c",
   "metadata": {},
   "outputs": [],
   "source": []
  },
  {
   "cell_type": "markdown",
   "id": "ae14e4e5",
   "metadata": {},
   "source": [
    "**18-Write a Python program to find the first non-repeating character in a given string"
   ]
  },
  {
   "cell_type": "code",
   "execution_count": null,
   "id": "d73778e5",
   "metadata": {},
   "outputs": [],
   "source": []
  },
  {
   "cell_type": "markdown",
   "id": "3adf5669",
   "metadata": {},
   "source": [
    "**19-Write a Python program to remove spaces from a given string"
   ]
  },
  {
   "cell_type": "code",
   "execution_count": null,
   "id": "b4f22602",
   "metadata": {},
   "outputs": [],
   "source": [
    "st = input(\"enter the string : \")\n",
    "print(st.replace(' ',''))"
   ]
  },
  {
   "cell_type": "markdown",
   "id": "734de60c",
   "metadata": {},
   "source": [
    "**20-Write a Python program to count the number of non-empty substrings of a given string"
   ]
  },
  {
   "cell_type": "code",
   "execution_count": null,
   "id": "ef3f2274",
   "metadata": {},
   "outputs": [],
   "source": [
    "def number_of_substrings(str):\n",
    "\n",
    "  str_len = len(str)  \n",
    "\n",
    "  return int(str_len * (str_len + 1) / 2)\n",
    "\n",
    "str1 = input(\"Input a string: \")\n",
    "\n",
    "print(\"Number of substrings:\")\n",
    "print(number_of_substrings(str1))"
   ]
  },
  {
   "cell_type": "markdown",
   "id": "509998e2",
   "metadata": {},
   "source": [
    "**21-write a Python program to swap first and last element of any list."
   ]
  },
  {
   "cell_type": "code",
   "execution_count": null,
   "id": "68692d7f",
   "metadata": {},
   "outputs": [],
   "source": [
    "l = [1,2,3,4,5]\n",
    "l[0] , l[-1] = l[-1] , l[0]\n",
    "print(l)"
   ]
  },
  {
   "cell_type": "markdown",
   "id": "959e0837",
   "metadata": {},
   "source": [
    "**22-Given a list in Python and provided the positions of the elements, write a program to swap the two elements in the list. (Input : List = [23, 65, 19, 90], pos1 = 1, pos2 = 3\n",
    "Output : [19, 65, 23, 90])"
   ]
  },
  {
   "cell_type": "code",
   "execution_count": null,
   "id": "225d8c6d",
   "metadata": {},
   "outputs": [],
   "source": []
  },
  {
   "cell_type": "markdown",
   "id": "66fc6682",
   "metadata": {},
   "source": [
    "**23- search for the all ways to know the length of the list"
   ]
  },
  {
   "cell_type": "code",
   "execution_count": null,
   "id": "c0ef3f00",
   "metadata": {},
   "outputs": [],
   "source": [
    "my_list = [1,2,3,4]\n",
    "\n",
    "# Use len() to find the size of the list\n",
    "length = len(my_list)\n",
    "print(length)  # Output: 4"
   ]
  },
  {
   "cell_type": "code",
   "execution_count": null,
   "id": "5dada624",
   "metadata": {},
   "outputs": [],
   "source": [
    "# Naive method using a for loop to count the list's size\n",
    "counter = 0\n",
    "for item in my_list:\n",
    "    counter += 1\n",
    "print(counter)  # Output: 4"
   ]
  },
  {
   "cell_type": "code",
   "execution_count": null,
   "id": "62ebf492",
   "metadata": {},
   "outputs": [],
   "source": [
    "# Using list comprehension to count the list's size\n",
    "length = sum([1 for item in my_list])\n",
    "print(length)  # Output: 4"
   ]
  },
  {
   "cell_type": "code",
   "execution_count": null,
   "id": "90944126",
   "metadata": {},
   "outputs": [],
   "source": [
    "# Import the reduce function from the functools module\n",
    "from functools import reduce\n",
    "\n",
    "# Define a simple function to use with reduce\n",
    "def update_count(count_so_far, _):\n",
    "    \"\"\"Increases the count by 1. The second parameter is not used.\"\"\"\n",
    "    return count_so_far + 1\n",
    "\n",
    "# Use reduce to count the items in the list\n",
    "# We start counting from 0, which is why we have '0' at the end\n",
    "list_length = reduce(update_count, my_list, 0)\n",
    "\n",
    "# Print out the result\n",
    "print(list_length)  # Output will be 4"
   ]
  },
  {
   "cell_type": "code",
   "execution_count": null,
   "id": "7f50b0aa",
   "metadata": {},
   "outputs": [],
   "source": [
    "# Step 1: Turn the list into an iterator\n",
    "list_iterator = iter(my_list)\n",
    "\n",
    "# Initialize a counter to keep track of the number of items\n",
    "count = 0\n",
    "\n",
    "# Step 2: Loop through the list using the iterator\n",
    "while True:\n",
    "    try:\n",
    "        # Use next() to get the next item from the iterator\n",
    "        next(list_iterator)\n",
    "        \n",
    "        # If next() was successful, increase the count\n",
    "        count += 1\n",
    "    except StopIteration:\n",
    "        # Step 3: If we reach the end of the list, break out of the loop\n",
    "        break\n",
    "\n",
    "# Print out the total count of items in the list\n",
    "print(count)  # Output will be 4"
   ]
  },
  {
   "cell_type": "code",
   "execution_count": null,
   "id": "0ed87b7b",
   "metadata": {},
   "outputs": [],
   "source": [
    "# Step 1: Enumerate the list and convert it to a list of tuples (index, element)\n",
    "enumerated_list = list(enumerate(my_list))\n",
    "\n",
    "# Step 2: Extract the last tuple (which contains the last index and the last element)\n",
    "last_tuple = enumerated_list[-1]\n",
    "\n",
    "# Step 3: The size of the list is the last index plus 1 (because of zero-based indexing)\n",
    "list_size = last_tuple[0] + 1\n",
    "\n",
    "# Print out the size of the list\n",
    "print(list_size)  # Output will be 4"
   ]
  },
  {
   "cell_type": "code",
   "execution_count": null,
   "id": "d5d06618",
   "metadata": {},
   "outputs": [],
   "source": [
    "# Import the NumPy library\n",
    "import numpy as np\n",
    "\n",
    "# Step 1: Convert the list into a NumPy array\n",
    "my_array = np.array(my_list)\n",
    "\n",
    "# Step 2: Use the 'size' attribute of the NumPy array to find its size\n",
    "array_size = my_array.size\n",
    "\n",
    "# Print out the size of the array (which is the same as the length of the list)\n",
    "print(array_size)  # Output will be 4"
   ]
  },
  {
   "cell_type": "code",
   "execution_count": null,
   "id": "b522b0f1",
   "metadata": {},
   "outputs": [],
   "source": [
    "# Using map() and sum() to count the list's size\n",
    "length = sum(map(lambda x: 1, my_list))\n",
    "print(length)  # Output: 4"
   ]
  },
  {
   "cell_type": "markdown",
   "id": "207471f5",
   "metadata": {},
   "source": [
    "**24-write a Python code to find the Maximum number of list of numbers."
   ]
  },
  {
   "cell_type": "code",
   "execution_count": null,
   "id": "15f342de",
   "metadata": {},
   "outputs": [],
   "source": [
    "l = [1,2,3,4,5]\n",
    "print(max(l))"
   ]
  },
  {
   "cell_type": "markdown",
   "id": "08582e45",
   "metadata": {},
   "source": [
    "**25-write a Python code to find the Minimum number of list of numbers."
   ]
  },
  {
   "cell_type": "code",
   "execution_count": null,
   "id": "21f8cbd6",
   "metadata": {},
   "outputs": [],
   "source": [
    "l = [1,2,3,4,5]\n",
    "print(min(l))"
   ]
  },
  {
   "cell_type": "markdown",
   "id": "96822d96",
   "metadata": {},
   "source": [
    "**26-search for if an elem is existing in list"
   ]
  },
  {
   "cell_type": "code",
   "execution_count": null,
   "id": "51ca5c9a",
   "metadata": {},
   "outputs": [],
   "source": [
    "l = []\n",
    "n = int(input(\"enter the number of the list : \"))\n",
    "c=0 \n",
    "while c < n :\n",
    "    l.append(int(input(\"enter the elment of list : \")))\n",
    "    c += 1 \n",
    "x = int(input(\"enter the number you wnat to search for : \"))\n",
    "\n",
    "if x in l : \n",
    "    print(\"found\")\n",
    "else : \n",
    "    print(\"not found \")"
   ]
  },
  {
   "cell_type": "markdown",
   "id": "d9557da7",
   "metadata": {},
   "source": [
    "**27- clear python list using different ways"
   ]
  },
  {
   "cell_type": "code",
   "execution_count": null,
   "id": "b69858a3",
   "metadata": {},
   "outputs": [],
   "source": [
    "l = [1,2,3,4,5]\n",
    "l.clear\n",
    "print(l)"
   ]
  },
  {
   "cell_type": "code",
   "execution_count": null,
   "id": "ea9c0d65",
   "metadata": {},
   "outputs": [],
   "source": [
    "l = [1,2,3,4,5]\n",
    "l =[]\n",
    "print(l)"
   ]
  },
  {
   "cell_type": "code",
   "execution_count": null,
   "id": "1fd12488",
   "metadata": {},
   "outputs": [],
   "source": [
    "l = [1,2,3,4,5]\n",
    "l *= 0 \n",
    "print(l)"
   ]
  },
  {
   "cell_type": "markdown",
   "id": "52160e88",
   "metadata": {},
   "source": [
    "**28-remove duplicated elements from a list"
   ]
  },
  {
   "cell_type": "code",
   "execution_count": null,
   "id": "5e362228",
   "metadata": {},
   "outputs": [],
   "source": [
    "l = []\n",
    "n = int(input(\"enter the number of the list : \"))\n",
    "c=0 \n",
    "while c < n :\n",
    "    l.append(int(input(\"enter the elment of list : \")))\n",
    "    c += 1\n",
    "\n",
    "new_l = [ ]\n",
    "\n",
    "for i in l :\n",
    "    if i not in new_l :\n",
    "        new_l.append(i)\n",
    "print ( new_l)"
   ]
  },
  {
   "cell_type": "markdown",
   "id": "282337f7",
   "metadata": {},
   "source": [
    "**29-Given list values and keys list, convert these values to key value pairs in form of list of dictionaries. (Input : test_list = [“Gfg”, 3, “is”, 8], key_list = [“name”, “id”]\n",
    "Output : [{‘name’: ‘Gfg’, ‘id’: 3}, {‘name’: ‘is’, ‘id’: 8}])"
   ]
  },
  {
   "cell_type": "code",
   "execution_count": null,
   "id": "4d4e2d28",
   "metadata": {},
   "outputs": [],
   "source": []
  },
  {
   "cell_type": "markdown",
   "id": "c26b6e9f",
   "metadata": {},
   "source": [
    "**30-write a python program to count unique values inside a list using different ways"
   ]
  },
  {
   "cell_type": "code",
   "execution_count": null,
   "id": "72132667",
   "metadata": {},
   "outputs": [],
   "source": [
    "l = []\n",
    "n = int(input(\"enter the number of the list : \"))\n",
    "c=0 \n",
    "while c < n :\n",
    "    l.append(int(input(\"enter the elment of list : \")))\n",
    "    c += 1\n",
    "\n",
    "new_l = [ ]\n",
    "\n",
    "for i in l :\n",
    "    if i not in new_l :\n",
    "        new_l.append(i)\n",
    "        c += 1 \n",
    "print ( c)"
   ]
  },
  {
   "cell_type": "code",
   "execution_count": null,
   "id": "b1e0f5f0",
   "metadata": {},
   "outputs": [],
   "source": [
    "l = []\n",
    "n = int(input(\"enter the number of the list : \"))\n",
    "c=0 \n",
    "while c < n :\n",
    "    l.append(int(input(\"enter the elment of list : \")))\n",
    "    c += 1\n",
    "    \n",
    "print(len(list(set(l))))"
   ]
  },
  {
   "cell_type": "markdown",
   "id": "fed6677c",
   "metadata": {},
   "source": [
    "**31-write a python program Extract all elements with Frequency greater than K (Input : test_list = [4, 6, 4, 3, 3, 4, 3, 4, 3, 8], K = 3 \n",
    "Output : [4, 3] )"
   ]
  },
  {
   "cell_type": "code",
   "execution_count": null,
   "id": "d81f3f9d",
   "metadata": {},
   "outputs": [],
   "source": [
    "l = []\n",
    "n = int(input(\"enter the number of the list : \"))\n",
    "c=0 \n",
    "while c < n :\n",
    "    l.append(int(input(\"enter the elment of list : \")))\n",
    "    c += 1\n",
    "new_l = []\n",
    "x = int(input(\"enter the frq : \"))\n",
    "for i in l :\n",
    "    if l.count(i) > x :\n",
    "        new_l.append(i)\n",
    "print(list(set(new_l)))"
   ]
  },
  {
   "cell_type": "markdown",
   "id": "caca5224",
   "metadata": {},
   "source": [
    "**32-write a python program to find the Strongest Neighbour (Input: 1 2 2 3 4 5\n",
    "Output: 2 2 3 4 5)"
   ]
  },
  {
   "cell_type": "code",
   "execution_count": null,
   "id": "39fbd9b2",
   "metadata": {},
   "outputs": [],
   "source": []
  },
  {
   "cell_type": "markdown",
   "id": "a9fa8baf",
   "metadata": {},
   "source": [
    "**33-write a Python Program to print all Possible Combinations from the three Digits (Input: [1, 2, 3]\n",
    "Output:\n",
    "1 2 3 ##\n",
    "1 3 2 ##\n",
    "2 1 3 ##\n",
    "2 3 1 ##\n",
    "3 1 2 ##\n",
    "3 2 1)"
   ]
  },
  {
   "cell_type": "code",
   "execution_count": null,
   "id": "8c520a76",
   "metadata": {},
   "outputs": [],
   "source": [
    "\n",
    "\n",
    "def comb(L): \n",
    "\t\n",
    "\tfor i in range(3): \n",
    "\t\tfor j in range(3): \n",
    "\t\t\tfor k in range(3): \n",
    "\t\t\t\t\n",
    "\t\t\t\n",
    "\t\t\t\tif (i!=j and j!=k and i!=k): \n",
    "\t\t\t\t\tprint(L[i], L[j], L[k]) \n",
    "\t\t\t\t\t\n",
    "\n",
    "comb([1, 2, 3])\n"
   ]
  },
  {
   "cell_type": "markdown",
   "id": "5288bb89",
   "metadata": {},
   "source": [
    "**34-write a Python program to find all the Combinations in the list with the given condition (Input: test_list = [1,2,3] \n",
    "Output: \n",
    " [1], [1, 2], [1, 2, 3], [1, 3]\n",
    " [2], [2, 3], [3])"
   ]
  },
  {
   "cell_type": "code",
   "execution_count": null,
   "id": "59b89646",
   "metadata": {},
   "outputs": [],
   "source": []
  },
  {
   "cell_type": "markdown",
   "id": "39973705",
   "metadata": {},
   "source": [
    "**35-write a Python program to get all unique combinations of two Lists (List_1 = [\"a\",\"b\"]\n",
    "List_2 = [1,2]\n",
    "Unique_combination = [[('a',1),('b',2)],[('a',2),('b',1)]] )"
   ]
  },
  {
   "cell_type": "code",
   "execution_count": null,
   "id": "8c4ba22b",
   "metadata": {},
   "outputs": [],
   "source": []
  },
  {
   "cell_type": "markdown",
   "id": "25199af5",
   "metadata": {},
   "source": [
    "**36-Remove all the occurrences of an element from a list in Python (Input : 1 1 2 3 4 5 1 2 1 \n",
    "\n",
    "**Output : 2 3 4 5 2)"
   ]
  },
  {
   "cell_type": "code",
   "execution_count": null,
   "id": "6dc4c2ba",
   "metadata": {},
   "outputs": [],
   "source": [
    "l = []\n",
    "n = int(input(\"enter the number of the list : \"))\n",
    "c=0 \n",
    "while c < n :\n",
    "    l.append(int(input(\"enter the elment of list : \")))\n",
    "    c += 1\n",
    "x = int(input(\"enter the elment you want to remove : \"))\n",
    "for i in l :\n",
    "    if i == x :\n",
    "        l.remove(x)\n",
    "print(l)"
   ]
  },
  {
   "cell_type": "markdown",
   "id": "bf1a3c93",
   "metadata": {},
   "source": [
    "**37-write a python program to Replace index elements with elements in Other List (The original list 1 is : [‘Gfg’, ‘is’, ‘best’] The original list 2 is : [0, 1, 2, 1, 0, 0, 0, 2, 1, 1, 2, 0] The lists after index elements replacements is : [‘Gfg’, ‘is’, ‘best’, ‘is’, ‘Gfg’, ‘Gfg’, ‘Gfg’, ‘best’, ‘is’, ‘is’, ‘best’, ‘Gfg’])"
   ]
  },
  {
   "cell_type": "code",
   "execution_count": null,
   "id": "fdd66a71",
   "metadata": {},
   "outputs": [],
   "source": [
    "test1 = [\"GF\", \"is\" , \"best\"]\n",
    "test2 = [0 , 1 , 2 , 1, 0 , 2,1 ,0 ]\n",
    "ol = [ ]\n",
    "for i in test2 : \n",
    "    ol.append(test1[i])\n",
    "print(ol)"
   ]
  },
  {
   "cell_type": "markdown",
   "id": "af0f56e8",
   "metadata": {},
   "source": [
    "**38- write python program to Retain records with N occurrences of K(Input : test_list = [(4, 5, 5, 4), (5, 4, 3)], K = 5, N = 2 \n",
    "Output : [(4, 5, 5, 4)]\n",
    "Input : test_list = [(4, 5, 5, 4), (5, 4, 3)], K = 5, N = 3 \n",
    "Output : [] )"
   ]
  },
  {
   "cell_type": "code",
   "execution_count": null,
   "id": "67b06671",
   "metadata": {},
   "outputs": [],
   "source": []
  },
  {
   "cell_type": "markdown",
   "id": "de76f183",
   "metadata": {},
   "source": [
    "**39-write a Python Program to Sort the list according to the column using lambda\n",
    "array = [[1, 3, 3], [2, 1, 2], [3, 2, 1]]\n",
    "Output :\n",
    "Sorted array specific to column 0, [[1, 3, 3], [2, 1, 2], [3, 2, 1]]\n",
    "Sorted array specific to column 1, [[2, 1, 2], [3, 2, 1], [1, 3, 3]]\n",
    "Sorted array specific to column 2, [[3, 2, 1], [2, 1, 2], [1, 3, 3]]"
   ]
  },
  {
   "cell_type": "code",
   "execution_count": null,
   "id": "dc883308",
   "metadata": {},
   "outputs": [],
   "source": []
  },
  {
   "cell_type": "markdown",
   "id": "aaaf0242",
   "metadata": {},
   "source": [
    "**40- write a program to Sort Python Dictionaries by Key or Value\n",
    "Input:\n",
    "{'ravi': 10, 'rajnish': 9, 'sanjeev': 15, 'yash': 2, 'suraj': 32}\n",
    "\n",
    "Output: \n",
    "{'rajnish': 9, 'ravi': 10, 'sanjeev': 15, 'suraj': 32, 'yash': 2}"
   ]
  },
  {
   "cell_type": "code",
   "execution_count": null,
   "id": "a96db4a0",
   "metadata": {},
   "outputs": [],
   "source": [
    "test_d = {'ravi': 10, 'rajnish': 9, 'sanjeev': 15, 'yash': 2, 'suraj': 32}\n",
    "sorte = dict(sorted(test_d.items(), key=lambda x:x[1]))\n",
    "print(sorte)"
   ]
  },
  {
   "cell_type": "markdown",
   "id": "ec63c23a",
   "metadata": {},
   "source": [
    "**41-write python program to Remove keys with Values Greater than K ( Including mixed values )\n",
    "nput : test_dict = {‘Gfg’ : 3, ‘is’ : 7, ‘best’ : 10, ‘for’ : 6, ‘geeks’ : ‘CS’},\n",
    "K = 7 \n",
    "Output : {‘Gfg’ : 3, ‘for’ : 6, ‘geeks’ : ‘CS’}"
   ]
  },
  {
   "cell_type": "code",
   "execution_count": null,
   "id": "e39c3a40",
   "metadata": {},
   "outputs": [],
   "source": [
    "\n",
    "test_dict = {'Gfg' : 3, 'is' : 7, 'best' : 10, 'for' : 6, 'geeks' : 'CS'} \n",
    "\n",
    "\n",
    "print(\"The original dictionary is : \" + str(test_dict))\n",
    "\n",
    "\n",
    "K = int(input(\"enter the k you want : \"))\n",
    "\n",
    "\n",
    "res = {}\n",
    "for key in test_dict:\n",
    "\n",
    "\t\n",
    "\tif not (isinstance(test_dict[key], int) and test_dict[key] > K):\n",
    "\t\tres[key] = test_dict[key]\n",
    "\t\t\n",
    "\n",
    "print(\"The constructed dictionary : \" + str(res)) \n"
   ]
  },
  {
   "cell_type": "markdown",
   "id": "f143f0fe",
   "metadata": {},
   "source": [
    "**42-Write a Python program to concatenate the following dictionaries to create a new one\n",
    "\n",
    "Sample Dictionary :\n",
    "dic1={1:10, 2:20}\n",
    "dic2={3:30, 4:40}\n",
    "dic3={5:50,6:60}\n",
    "Expected Result : {1: 10, 2: 20, 3: 30, 4: 40, 5: 50, 6: 60}"
   ]
  },
  {
   "cell_type": "code",
   "execution_count": null,
   "id": "74ffdfea",
   "metadata": {},
   "outputs": [],
   "source": [
    "dic1={1:10, 2:20}\n",
    "dic2={3:30, 4:40}\n",
    "dic3={5:50,6:60}\n",
    "\n",
    "dic1.update(dic2)\n",
    "dic1.update(dic3)\n",
    "print(dic1)"
   ]
  },
  {
   "cell_type": "markdown",
   "id": "fb04c93c",
   "metadata": {},
   "source": [
    "**43-Write a Python program to iterate over dictionaries using for loops"
   ]
  },
  {
   "cell_type": "code",
   "execution_count": null,
   "id": "6aebc470",
   "metadata": {},
   "outputs": [],
   "source": [
    "d = {'x':10, 'y':20, 'z': 30}\n",
    "\n",
    "for i,j in d.items():\n",
    "    print(i,'-->',j)\n"
   ]
  },
  {
   "cell_type": "markdown",
   "id": "5f491a9d",
   "metadata": {},
   "source": [
    "**44- Write a Python script to merge two Python dictionaries"
   ]
  },
  {
   "cell_type": "code",
   "execution_count": null,
   "id": "b8a14028",
   "metadata": {},
   "outputs": [],
   "source": [
    "dic1={1:10, 2:20}\n",
    "dic2={3:30, 4:40}\n",
    "\n",
    "print(dic1.update(dic2))"
   ]
  },
  {
   "cell_type": "markdown",
   "id": "216fc72d",
   "metadata": {},
   "source": [
    "**45-Write a Python program to get the maximum and minimum values of a dictionary values"
   ]
  },
  {
   "cell_type": "code",
   "execution_count": null,
   "id": "d6883f5f",
   "metadata": {},
   "outputs": [],
   "source": [
    "dic1={1:10, 2:20 , 3:30 , 4:40}\n",
    "print(max(dic1))\n",
    "print(min(dic2))"
   ]
  },
  {
   "cell_type": "markdown",
   "id": "b6a53011",
   "metadata": {},
   "source": [
    "**46- Write a Python program to drop empty items from a given dictionary.\n",
    "Original Dictionary:\n",
    "{'c1': 'Red', 'c2': 'Green', 'c3': None}\n",
    "New Dictionary after dropping empty items:\n",
    "{'c1': 'Red', 'c2': 'Green'}"
   ]
  },
  {
   "cell_type": "code",
   "execution_count": null,
   "id": "b5c6fecf",
   "metadata": {},
   "outputs": [],
   "source": [
    "d = {'x':10, 'y':20, 'z': 30 , 'k' : None}\n",
    "\n",
    "for i,j in d.items():\n",
    "   if j == None : \n",
    "      d.pop(i)  "
   ]
  },
  {
   "cell_type": "markdown",
   "id": "46d718c7",
   "metadata": {},
   "source": [
    "**47-Write a Python program to create a tuple of numbers and print one item"
   ]
  },
  {
   "cell_type": "code",
   "execution_count": null,
   "id": "13216ff5",
   "metadata": {},
   "outputs": [],
   "source": [
    "t = 10 , 20 , 30 , 40 , 50 \n",
    "print(t[1])"
   ]
  },
  {
   "cell_type": "markdown",
   "id": "2be5b56b",
   "metadata": {},
   "source": [
    "**48-Write a Python program to unpack a tuple into several variables"
   ]
  },
  {
   "cell_type": "code",
   "execution_count": null,
   "id": "595f44be",
   "metadata": {},
   "outputs": [],
   "source": [
    "t = 10 , 20 , 30 , 40 , 50 \n",
    "x , y , z , k , m = t\n",
    "print(x , y , z ,k , m ,sep=\" : \")"
   ]
  },
  {
   "cell_type": "markdown",
   "id": "392388a7",
   "metadata": {},
   "source": [
    "**49-Write a Python program to add an item to a tuple"
   ]
  },
  {
   "cell_type": "code",
   "execution_count": null,
   "id": "54cc092e",
   "metadata": {},
   "outputs": [],
   "source": [
    "\n",
    "t = (1, 2, 3)\n",
    "\n",
    "x = 4\n",
    "\n",
    "tnew = t + (x)\n",
    "\n",
    "\n",
    "print(\"New tuple with added item:\", tnew)\n"
   ]
  },
  {
   "cell_type": "markdown",
   "id": "3e8fd124",
   "metadata": {},
   "source": [
    "**50-Write a Python program to convert a tuple to a string"
   ]
  },
  {
   "cell_type": "code",
   "execution_count": null,
   "id": "92a71ddc",
   "metadata": {},
   "outputs": [],
   "source": [
    "t = 'a' , 'b' ,'c'\n",
    "s = list(t)\n",
    "print(''.join(s))"
   ]
  },
  {
   "cell_type": "markdown",
   "id": "f4f64ef4",
   "metadata": {},
   "source": [
    "**51-Write a Python program to convert a list to a tuple"
   ]
  },
  {
   "cell_type": "code",
   "execution_count": null,
   "id": "210d56d3",
   "metadata": {},
   "outputs": [],
   "source": [
    "\n",
    "l = [1, 2, 3, 4, 5]\n",
    "\n",
    "t = tuple(l)\n",
    "print(\"Converted tuple:\", t)\n"
   ]
  },
  {
   "cell_type": "markdown",
   "id": "b1e00ef7",
   "metadata": {},
   "source": [
    "**52-Write a Python program to reverse a tuple"
   ]
  },
  {
   "cell_type": "code",
   "execution_count": null,
   "id": "f45bfdc7",
   "metadata": {},
   "outputs": [],
   "source": [
    "t = (1, 2, 3, 4, 5)\n",
    "\n",
    "rt = t[::-1]\n",
    "print(\"Reversed tuple:\", rt)\n"
   ]
  },
  {
   "cell_type": "markdown",
   "id": "3cd347d1",
   "metadata": {},
   "source": [
    "**53-Write a Python program to replace the last value of tuples in a list.\n",
    "Sample list: [(10, 20, 40), (40, 50, 60), (70, 80, 90)]\n",
    "Expected Output: [(10, 20, 100), (40, 50, 100), (70, 80, 100)]"
   ]
  },
  {
   "cell_type": "code",
   "execution_count": null,
   "id": "3c4a2a4c",
   "metadata": {},
   "outputs": [],
   "source": [
    "l = [(10, 20, 40), (40, 50, 60), (70, 80, 90)]\n",
    "\n",
    "\n",
    "n = 100\n",
    "nl = [t[:-1] + (n,) for t in l]\n",
    "print(\"Modified list:\", nl)\n"
   ]
  },
  {
   "cell_type": "markdown",
   "id": "76bb7b39",
   "metadata": {},
   "source": [
    "**54-Write a Python program to convert a given string list to a tuple\n",
    "Original string: python 3.0\n",
    "<class 'str'>\n",
    "Convert the said string to a tuple:\n",
    "('p', 'y', 't', 'h', 'o', 'n', '3', '.', '0')"
   ]
  },
  {
   "cell_type": "code",
   "execution_count": null,
   "id": "51951937",
   "metadata": {},
   "outputs": [],
   "source": [
    "s = \"python 3.0\"\n",
    "s = list(s)\n",
    "\n",
    "while 1 < 2 :\n",
    "    if \" \" in s :\n",
    "        s.remove(\" \")\n",
    "    else :\n",
    "        break\n",
    "print(tuple(s))"
   ]
  },
  {
   "cell_type": "markdown",
   "id": "5a1d5d97",
   "metadata": {},
   "source": [
    "**55-Write a Python program to calculate the average value of the numbers in a given tuple of tuples"
   ]
  },
  {
   "cell_type": "code",
   "execution_count": null,
   "id": "834e7992",
   "metadata": {},
   "outputs": [],
   "source": [
    "t = ((1,2,3),(4,5),(6,7,8))\n",
    "sum = 0 \n",
    "c = 0 \n",
    "for i in t :\n",
    "    for j in i :\n",
    "        sum += j \n",
    "        c += 1 \n",
    "if c != 0 : \n",
    "    print (\"the avg = \", (sum/c))"
   ]
  },
  {
   "cell_type": "markdown",
   "id": "51edab9c",
   "metadata": {},
   "source": [
    "**56-Write a Python program to add member(s) to a set."
   ]
  },
  {
   "cell_type": "code",
   "execution_count": null,
   "id": "2b65df79",
   "metadata": {},
   "outputs": [],
   "source": [
    "s = {1,2,3,4,5,6,7}\n",
    "x = int(input(\"enter the number you want to add : \"))\n",
    "s.add(x)\n",
    "print(s)"
   ]
  },
  {
   "cell_type": "markdown",
   "id": "965590cc",
   "metadata": {},
   "source": [
    "**57-Write a Python program to remove an item from a set if it is present in the set."
   ]
  },
  {
   "cell_type": "code",
   "execution_count": null,
   "id": "866bab28",
   "metadata": {},
   "outputs": [],
   "source": [
    "s = {1,2,3,4,5,6,7}\n",
    "x = int(input(\"enter the number you want to remove : \"))\n",
    "if x in s :\n",
    "    s.remove(x)\n",
    "print(s)"
   ]
  },
  {
   "cell_type": "markdown",
   "id": "2b7cfed1",
   "metadata": {},
   "source": [
    "**58-Write a Python program to create an intersection,union,difference and symmetric difference of sets"
   ]
  },
  {
   "cell_type": "code",
   "execution_count": null,
   "id": "7f94b7fe",
   "metadata": {},
   "outputs": [],
   "source": [
    "test_set1 = {1,2,3,4,5,6,7}\n",
    "test_set2 = {4,5,6,7,8,9,10}\n",
    "\n",
    "print(\"the union is \",test_set1 | test_set2)\n",
    "print(\"the intersiction is \",test_set1 & test_set2)\n",
    "print(\"the diffrence is \",test_set1 - test_set2)\n",
    "print(\"the symmetric diffrence \",test_set1 ^ test_set2)"
   ]
  },
  {
   "cell_type": "markdown",
   "id": "b94931e2",
   "metadata": {},
   "source": [
    "**59-Write a Python program to find the maximum and minimum values in a set"
   ]
  },
  {
   "cell_type": "code",
   "execution_count": null,
   "id": "203f9600",
   "metadata": {},
   "outputs": [],
   "source": [
    "test_set = {1,2,3,4,5,6,7}\n",
    "print(\"the maximum number is \", max(test_set))\n",
    "print(\"the minimum number is \", min(test_set))"
   ]
  },
  {
   "cell_type": "markdown",
   "id": "255fd554",
   "metadata": {},
   "source": [
    "**60- Write a Python program that finds all pairs of elements in a list whose sum is equal to a given value."
   ]
  },
  {
   "cell_type": "code",
   "execution_count": null,
   "id": "c2d94e1f",
   "metadata": {},
   "outputs": [],
   "source": [
    "l = [1,2,3,4,5,6,7,8,9]\n",
    "x = int(input(\"enter the number you want to see : \"))\n",
    "for i in l :\n",
    "    for j in l : \n",
    "            if i + j == x :\n",
    "                print(f\"({i} , {j} )\")"
   ]
  }
 ],
 "metadata": {
  "kernelspec": {
   "display_name": "Python 3 (ipykernel)",
   "language": "python",
   "name": "python3"
  },
  "language_info": {
   "codemirror_mode": {
    "name": "ipython",
    "version": 3
   },
   "file_extension": ".py",
   "mimetype": "text/x-python",
   "name": "python",
   "nbconvert_exporter": "python",
   "pygments_lexer": "ipython3",
   "version": "3.9.7"
  }
 },
 "nbformat": 4,
 "nbformat_minor": 5
}
